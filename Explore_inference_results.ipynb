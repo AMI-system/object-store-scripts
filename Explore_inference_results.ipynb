{
 "cells": [
  {
   "cell_type": "markdown",
   "id": "3ae940a1-781e-4fc4-93e2-ba39457a8329",
   "metadata": {},
   "source": [
    "# Pool together Results"
   ]
  },
  {
   "cell_type": "code",
   "execution_count": null,
   "id": "2f6f01ed",
   "metadata": {},
   "outputs": [],
   "source": [
    "# get list of files recursively\n",
    "import os\n",
    "import pandas as pd\n",
    "import numpy as np\n",
    "\n",
    "data_dir = '/bask/homes/f/fspo1218/amber/projects/object-store-scripts/data'\n",
    "results = []\n",
    "cols = ['path', 'inference datetime', 'country', 'deployment name', 'binary class', 'binary confidence',\n",
    "        'xmin', 'ymin', 'xmax',  'ymax', 'species class', 'species confidence']\n",
    "\n",
    "for root, dirs, files in os.walk(data_dir):\n",
    "    for file in files:\n",
    "        if file == 'results.csv':\n",
    "            df_temp = pd.read_csv(os.path.join(root, file))\n",
    "            header = pd.DataFrame(df_temp.columns)\n",
    "            header.index = cols\n",
    "            df_temp.columns = cols\n",
    "            df_temp = pd.concat([header.T, df_temp], ignore_index=True, axis=0)\n",
    "\n",
    "            results.append(df_temp)\n",
    "\n",
    "\n",
    "# append all dataframes in results list\n",
    "all_results = pd.concat(results, ignore_index=True)"
   ]
  },
  {
   "cell_type": "code",
   "execution_count": null,
   "id": "671662ff",
   "metadata": {},
   "outputs": [],
   "source": [
    "all_results.loc[~all_results['species class'].isna() & all_results['species class'].str.contains('Unnamed'), 'species confidence'] = np.nan\n",
    "all_results.loc[~all_results['species class'].isna() & all_results['species class'].str.contains('Unnamed'), 'species class'] = np.nan\n",
    "all_results['deployment_id'] = all_results['path'].str.split('/').str[-3]\n",
    "all_results['image_time'] = all_results['path'].str.split('/').str[-1].str.split('-').str[-2]\n",
    "all_results['image_date'] = all_results['path'].str.split('/').str[-1].str.split('-').str[-2]\n",
    "all_results['image_date'] = all_results['image_date'].str[:4] + '-' + all_results['image_date'].str[4:6] + '-' + all_results['image_date'].str[6:8]\n",
    "all_results['image_time'] = all_results['image_time'].str[-6:-4] + ':' + all_results['image_time'].str[-4:-2] + ':' + all_results['image_time'].str[-2:]\n",
    "all_results['path'] = all_results['path'].str.split('/').str[-3:].str.join('/')"
   ]
  },
  {
   "cell_type": "code",
   "execution_count": null,
   "id": "0609418e",
   "metadata": {},
   "outputs": [],
   "source": [
    "all_results"
   ]
  },
  {
   "cell_type": "code",
   "execution_count": null,
   "id": "a3b86ae0",
   "metadata": {},
   "outputs": [],
   "source": [
    "all_results.columns"
   ]
  },
  {
   "cell_type": "code",
   "execution_count": null,
   "id": "f5b5b52b",
   "metadata": {},
   "outputs": [],
   "source": [
    "all_results = all_results[['country', 'deployment name', 'deployment_id', 'image_time',\n",
    "       'image_date',\n",
    "       'binary class', 'binary confidence', 'xmin', 'ymin', 'xmax', 'ymax',\n",
    "       'species class', 'species confidence', 'path', 'inference datetime']]"
   ]
  },
  {
   "cell_type": "code",
   "execution_count": null,
   "id": "da73e5cb",
   "metadata": {},
   "outputs": [],
   "source": [
    "all_results.head()"
   ]
  },
  {
   "cell_type": "code",
   "execution_count": null,
   "id": "2e67b72f",
   "metadata": {},
   "outputs": [],
   "source": [
    "all_results['binary class'].value_counts()"
   ]
  },
  {
   "cell_type": "code",
   "execution_count": null,
   "id": "5e0d6941",
   "metadata": {},
   "outputs": [],
   "source": [
    "import matplotlib.pyplot as plt\n",
    "import seaborn as sns\n",
    "sns.set_context(\"paper\")\n",
    "\n",
    "fig, ax = plt.subplots(figsize=(3, 5))\n",
    "\n",
    "sns.countplot(data=all_results, x='binary class')\n",
    "plt.xticks(rotation=45)\n",
    "plt.title('Predicted Object Classes')\n",
    "plt.show()\n",
    "#plt.savefig('/bask/homes/f/fspo1218/amber/projects/object-store-scripts/outputs/binary_class.png', dpi=500, bbox_inches='tight', pad_inches=0.1)"
   ]
  },
  {
   "cell_type": "code",
   "execution_count": null,
   "id": "6b23d1d0",
   "metadata": {},
   "outputs": [],
   "source": [
    "temp = all_results['deployment name'].value_counts().reset_index()\n",
    "\n",
    "# plot the number of objects for each deployment\n",
    "fig, ax = plt.subplots(figsize=(3, 3))\n",
    "\n",
    "sns.barplot(temp, x='deployment name', y='count')\n",
    "plt.xticks(rotation=45, ha='right')\n",
    "plt.ylabel('Number of Objects Detected')\n",
    "plt.xlabel('Deployment Name')\n",
    "plt.title('Number of Objects Detected per Deployment')\n",
    "plt.show()\n"
   ]
  },
  {
   "cell_type": "code",
   "execution_count": null,
   "id": "6c1f1647",
   "metadata": {},
   "outputs": [],
   "source": [
    "temp = all_results['path'].value_counts().reset_index()\n",
    "\n",
    "# plot a histogram of the count\n",
    "fig, ax = plt.subplots(figsize=(3, 3))\n",
    "\n",
    "sns.histplot(temp, x='count', bins=10)\n",
    "plt.xlabel('Number of Objects per Image')\n",
    "plt.ylabel('Number of Images')\n",
    "plt.title('The number of Objects Detected per Image')\n",
    "plt.show()"
   ]
  },
  {
   "cell_type": "code",
   "execution_count": null,
   "id": "5f8dafd3",
   "metadata": {},
   "outputs": [],
   "source": [
    "all_results['image_timestamp'] = all_results['image_time'] + ' ' + all_results['image_date']\n",
    "all_results['image_timestamp'] = pd.to_datetime(all_results['image_timestamp'], format='%H:%M:%S %Y-%m-%d')"
   ]
  },
  {
   "cell_type": "code",
   "execution_count": null,
   "id": "9ed0152a",
   "metadata": {},
   "outputs": [],
   "source": [
    "all_results.head()\n"
   ]
  },
  {
   "cell_type": "code",
   "execution_count": null,
   "id": "c00d0322",
   "metadata": {},
   "outputs": [],
   "source": [
    "import datetime\n",
    "\n",
    "# sort by deployment and image timestamp\n",
    "subset = all_results[['deployment name', 'image_timestamp', 'path']]\n",
    "\n",
    "# drop duplicates\n",
    "subset = subset.drop_duplicates()\n",
    "\n",
    "def subset_by_interval(deployment, interval):\n",
    "    #deployment = 'Swamp - 5794FB2E'\n",
    "    subset2 = subset.loc[subset['deployment name'] == deployment, ]\n",
    "\n",
    "    # sort by image_timestamp\n",
    "    subset2 = subset2.sort_values('image_timestamp')\n",
    "\n",
    "\n",
    "    first_timestep = subset2['image_timestamp'].iloc[0]\n",
    "    last_timestep = subset2['image_timestamp'].iloc[-1]\n",
    "\n",
    "    # get the timestamps for intervals between the first and last timestamp\n",
    "    intervals = pd.date_range(start=first_timestep, end=last_timestep, freq=interval)\n",
    "    #print(subset2.shape)\n",
    "\n",
    "    subset2 = subset2.loc[subset2['image_timestamp'].isin(intervals), ]\n",
    "    #print(subset2.shape)\n",
    "\n",
    "    return subset2\n",
    "\n",
    "interval_images = []\n",
    "for deployment in all_results['deployment name'].unique():\n",
    "    interval_images.append(subset_by_interval(deployment, '1min'))\n",
    "\n",
    "interval_images = pd.concat(interval_images, ignore_index=True)\n",
    "\n",
    "print(all_results.shape)\n",
    "print(interval_images.shape)"
   ]
  },
  {
   "cell_type": "code",
   "execution_count": null,
   "id": "b17c474f",
   "metadata": {},
   "outputs": [],
   "source": [
    "interval_images['deployment name'].value_counts()"
   ]
  },
  {
   "cell_type": "code",
   "execution_count": null,
   "id": "9b191adf",
   "metadata": {},
   "outputs": [],
   "source": [
    "temp = interval_images['deployment name'].value_counts().reset_index()\n",
    "\n",
    "# plot the number of objects for each deployment\n",
    "fig, ax = plt.subplots(figsize=(3, 3))\n",
    "\n",
    "sns.barplot(temp, x='deployment name', y='count')\n",
    "plt.xticks(rotation=45, ha='right')\n",
    "plt.ylabel('Number of Objects Detected')\n",
    "plt.xlabel('Deployment Name')\n",
    "plt.title('Number of Objects Detected per Deployment')\n",
    "plt.show()"
   ]
  },
  {
   "cell_type": "code",
   "execution_count": null,
   "id": "c939a4ff",
   "metadata": {},
   "outputs": [],
   "source": [
    "temp"
   ]
  },
  {
   "cell_type": "code",
   "execution_count": null,
   "id": "dad1e6c5",
   "metadata": {},
   "outputs": [],
   "source": [
    "temp2 = all_results[all_results['deployment name'] == 'Wetland - DC049A28']\n",
    "\n",
    "# sort by deployment and image timestamp\n",
    "subset = temp2[['deployment_id', 'image_timestamp', 'path']]\n",
    "\n",
    "# drop duplicates\n",
    "subset = subset.drop_duplicates()\n",
    "\n",
    "# for each depolyment, add column for the timestamp of the row above\n",
    "subset['prev_timestamp'] = subset.groupby('deployment_id')['image_timestamp'].shift(1)\n",
    "\n",
    "# add column for time difference between the current and previous timestamp\n",
    "subset['time_diff'] = subset['image_timestamp'] - subset['prev_timestamp']\n",
    "\n",
    "# subset to only rows where the time difference is greater than 10 minutes, or NaT\n",
    "# subset = subset[(subset['time_diff'] > datetime.timedelta(minutes=1)) | (subset['time_diff'].isna())]\n",
    "\n",
    "# subset = all_results.loc[all_results['path'].isin(subset['path'])]\n",
    "\n",
    "subset\n",
    "\n",
    "\n",
    "# temp2#['path'].value_counts()"
   ]
  },
  {
   "cell_type": "code",
   "execution_count": null,
   "id": "ea0459cb",
   "metadata": {},
   "outputs": [],
   "source": []
  }
 ],
 "metadata": {
  "kernelspec": {
   "display_name": "kg_conda_env2 (Conda)",
   "language": "python",
   "name": "sys_kg_conda_env2"
  },
  "language_info": {
   "codemirror_mode": {
    "name": "ipython",
    "version": 3
   },
   "file_extension": ".py",
   "mimetype": "text/x-python",
   "name": "python",
   "nbconvert_exporter": "python",
   "pygments_lexer": "ipython3",
   "version": "3.9.17"
  }
 },
 "nbformat": 4,
 "nbformat_minor": 5
}
